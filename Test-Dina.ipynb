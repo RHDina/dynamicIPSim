{
 "cells": [
  {
   "cell_type": "code",
   "execution_count": null,
   "metadata": {},
   "outputs": [],
   "source": [
    "# TO CHECK THE GPU OF THE COMPUTER\n",
    "import pyopencl as cl;  # warnings.filterwarnings('ignore', category=cl.CompilerWarning)\n",
    "devices = sorted([d for p in cl.get_platforms() for d in p.get_devices()], key=lambda d: d.get_info(cl.device_info.MAX_WORK_GROUP_SIZE))\n",
    "devices"
   ]
  },
  {
   "cell_type": "markdown",
   "metadata": {},
   "source": [
    "Test starts from here"
   ]
  },
  {
   "cell_type": "code",
   "execution_count": 6,
   "metadata": {},
   "outputs": [],
   "source": [
    "from dynamicIPSim import compute_xy_pos, generate_images, compute_beads_params\n",
    "from stochastic.processes.continuous import BrownianMotion, FractionalBrownianMotion\n",
    "n=500\n",
    "dt=20\n",
    "sxy=[128,128]\n",
    "m=20\n",
    "particle_size_range = [2.0,4] \n",
    "bead_circularity = 1 # 1 means beads are circular, otherwise generates random circularity\n",
    "\n",
    "x0, y0 = compute_xy_pos(n, m, sxy, dt, method='FractionalBM',hurst=0.5)#, method='Brownian', edgeex=0.1)\n",
    "bead_params = compute_beads_params(m,particle_size_range,bead_circularity,x0[:,0],y0[:,0])\n",
    "noisyimg = generate_images(x0, y0, sxy, bead_params, gamma=0.9, N=1000)\n"
   ]
  },
  {
   "cell_type": "code",
   "execution_count": 2,
   "metadata": {},
   "outputs": [
    {
     "data": {
      "application/vnd.jupyter.widget-view+json": {
       "model_id": "4ce8e85286e846b6a212aeaddc47edab",
       "version_major": 2,
       "version_minor": 0
      },
      "text/plain": [
       "interactive(children=(IntSlider(value=249, description='z', max=499), Output()), _dom_classes=('widget-interac…"
      ]
     },
     "execution_count": 2,
     "metadata": {},
     "output_type": "execute_result"
    }
   ],
   "source": [
    "from ipywidgets import interactive\n",
    "import matplotlib.pyplot as plt\n",
    "\n",
    "def f(z):\n",
    "    plt.figure(2)\n",
    "    plt.imshow(noisyimg[:,:,z])\n",
    "    plt.show()\n",
    "\n",
    "interactive_plot = interactive(f, z=(0,noisyimg.shape[-1]-1))\n",
    "output = interactive_plot.children[-1]\n",
    "interactive_plot"
   ]
  },
  {
   "cell_type": "markdown",
   "metadata": {},
   "source": [
    "Have a real PSF instead of a Gaussian"
   ]
  },
  {
   "cell_type": "code",
   "execution_count": 5,
   "metadata": {},
   "outputs": [
    {
     "ename": "NameError",
     "evalue": "name 'n' is not defined",
     "output_type": "error",
     "traceback": [
      "\u001b[1;31m---------------------------------------------------------------------------\u001b[0m",
      "\u001b[1;31mNameError\u001b[0m                                 Traceback (most recent call last)",
      "\u001b[1;32mc:\\Users\\Dina Ratsimandresy\\Documents\\GitHub\\dynamicIPSim\\Test-Dina.ipynb Cell 7\u001b[0m line \u001b[0;36m2\n\u001b[0;32m      <a href='vscode-notebook-cell:/c%3A/Users/Dina%20Ratsimandresy/Documents/GitHub/dynamicIPSim/Test-Dina.ipynb#W6sZmlsZQ%3D%3D?line=0'>1</a>\u001b[0m \u001b[39mfrom\u001b[39;00m \u001b[39mdynamicIPSim\u001b[39;00m \u001b[39mimport\u001b[39;00m compute_beads_params, compute_xy_pos\n\u001b[1;32m----> <a href='vscode-notebook-cell:/c%3A/Users/Dina%20Ratsimandresy/Documents/GitHub/dynamicIPSim/Test-Dina.ipynb#W6sZmlsZQ%3D%3D?line=1'>2</a>\u001b[0m x0, y0 \u001b[39m=\u001b[39m compute_xy_pos(n, m, sxy, dt, method\u001b[39m=\u001b[39m\u001b[39m'\u001b[39m\u001b[39mFractionalBM\u001b[39m\u001b[39m'\u001b[39m,hurst\u001b[39m=\u001b[39m\u001b[39m0.5\u001b[39m)\u001b[39m#, method='Brownian', edgeex=0.1)\u001b[39;00m\n\u001b[0;32m      <a href='vscode-notebook-cell:/c%3A/Users/Dina%20Ratsimandresy/Documents/GitHub/dynamicIPSim/Test-Dina.ipynb#W6sZmlsZQ%3D%3D?line=3'>4</a>\u001b[0m bead_param \u001b[39m=\u001b[39m compute_beads_params(m,particle_size_range,bead_circularity,x0[:,\u001b[39m0\u001b[39m],y0[:,\u001b[39m0\u001b[39m])\n\u001b[0;32m      <a href='vscode-notebook-cell:/c%3A/Users/Dina%20Ratsimandresy/Documents/GitHub/dynamicIPSim/Test-Dina.ipynb#W6sZmlsZQ%3D%3D?line=4'>5</a>\u001b[0m bead_param\n",
      "\u001b[1;31mNameError\u001b[0m: name 'n' is not defined"
     ]
    }
   ],
   "source": [
    "from dynamicIPSim import compute_beads_params, compute_xy_pos\n",
    "x0, y0 = compute_xy_pos(n, m, sxy, dt, method='FractionalBM',hurst=0.5)#, method='Brownian', edgeex=0.1)\n",
    "\n",
    "bead_param = compute_beads_params(m,particle_size_range,bead_circularity,x0[:,0],y0[:,0])\n",
    "bead_param"
   ]
  }
 ],
 "metadata": {
  "kernelspec": {
   "display_name": "dynamicIP",
   "language": "python",
   "name": "python3"
  },
  "language_info": {
   "codemirror_mode": {
    "name": "ipython",
    "version": 3
   },
   "file_extension": ".py",
   "mimetype": "text/x-python",
   "name": "python",
   "nbconvert_exporter": "python",
   "pygments_lexer": "ipython3",
   "version": "3.11.5"
  }
 },
 "nbformat": 4,
 "nbformat_minor": 2
}
