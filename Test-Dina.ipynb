{
 "cells": [
  {
   "cell_type": "code",
   "execution_count": null,
   "metadata": {},
   "outputs": [],
   "source": [
    "# TO CHECK THE GPU OF THE COMPUTER\n",
    "import pyopencl as cl;  # warnings.filterwarnings('ignore', category=cl.CompilerWarning)\n",
    "devices = sorted([d for p in cl.get_platforms() for d in p.get_devices()], key=lambda d: d.get_info(cl.device_info.MAX_WORK_GROUP_SIZE))\n",
    "devices"
   ]
  },
  {
   "cell_type": "markdown",
   "metadata": {},
   "source": [
    "Test starts from here"
   ]
  },
  {
   "cell_type": "code",
   "execution_count": 14,
   "metadata": {},
   "outputs": [],
   "source": [
    "from dynamicIPSim import compute_xy_pos, generate_images\n",
    "from stochastic.processes.continuous import BrownianMotion, FractionalBrownianMotion\n",
    "n=500\n",
    "dt=20\n",
    "sxy=[128,128]\n",
    "m=20\n",
    "\n",
    "x0, y0 = compute_xy_pos(n, m, sxy, dt, method='FractionalBM',hurst=0.5)#, method='Brownian', edgeex=0.1)\n",
    "noisyimg, x0, y0, sigma_x, sigma_y, amp = generate_images(x0, y0, sxy, particle_size_range = [2.5,5], gamma=0.9, dt=0.001, N=1000)\n"
   ]
  },
  {
   "cell_type": "code",
   "execution_count": 15,
   "metadata": {},
   "outputs": [
    {
     "data": {
      "application/vnd.jupyter.widget-view+json": {
       "model_id": "961105a8b570462aa9e2031335bff538",
       "version_major": 2,
       "version_minor": 0
      },
      "text/plain": [
       "interactive(children=(IntSlider(value=249, description='z', max=499), Output()), _dom_classes=('widget-interac…"
      ]
     },
     "execution_count": 15,
     "metadata": {},
     "output_type": "execute_result"
    }
   ],
   "source": [
    "from ipywidgets import interactive\n",
    "import matplotlib.pyplot as plt\n",
    "\n",
    "def f(z):\n",
    "    plt.figure(2)\n",
    "    plt.imshow(noisyimg[:,:,z])\n",
    "    plt.show()\n",
    "\n",
    "interactive_plot = interactive(f, z=(0,noisyimg.shape[-1]-1))\n",
    "output = interactive_plot.children[-1]\n",
    "interactive_plot"
   ]
  }
 ],
 "metadata": {
  "kernelspec": {
   "display_name": "dynamicIP",
   "language": "python",
   "name": "python3"
  },
  "language_info": {
   "codemirror_mode": {
    "name": "ipython",
    "version": 3
   },
   "file_extension": ".py",
   "mimetype": "text/x-python",
   "name": "python",
   "nbconvert_exporter": "python",
   "pygments_lexer": "ipython3",
   "version": "3.11.5"
  }
 },
 "nbformat": 4,
 "nbformat_minor": 2
}
